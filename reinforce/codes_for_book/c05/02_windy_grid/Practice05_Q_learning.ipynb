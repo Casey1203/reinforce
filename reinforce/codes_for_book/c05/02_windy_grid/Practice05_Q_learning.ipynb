{
 "cells": [
  {
   "cell_type": "code",
   "execution_count": 1,
   "metadata": {
    "ExecuteTime": {
     "end_time": "2019-09-30T09:29:40.016783Z",
     "start_time": "2019-09-30T09:29:39.673978Z"
    }
   },
   "outputs": [],
   "source": [
    "from random import random, choice\n",
    "from core import Agent\n",
    "from gym import Env\n",
    "import gym\n",
    "from gridworld import WindyGridWorld, SimpleGridWorld\n",
    "from utils import str_key, set_dict, get_dict\n",
    "from utils import epsilon_greedy_pi, epsilon_greedy_policy\n",
    "from utils import greedy_policy, learning_curve"
   ]
  },
  {
   "cell_type": "code",
   "execution_count": 2,
   "metadata": {
    "ExecuteTime": {
     "end_time": "2019-09-30T09:29:41.941659Z",
     "start_time": "2019-09-30T09:29:41.888647Z"
    }
   },
   "outputs": [],
   "source": [
    "class QAgent(Agent):\n",
    "    def __init__(self, env:Env, capacity:int = 20000):\n",
    "        super(QAgent, self).__init__(env, capacity)\n",
    "        self.Q = {}\n",
    "\n",
    "    def policy(self, A, s, Q, epsilon):\n",
    "        return epsilon_greedy_policy(A, s, Q, epsilon)\n",
    "    \n",
    "    def learning_method(self, gamma = 0.9, alpha = 0.1, epsilon = 1e-5, display = False, lambda_ = None):\n",
    "        self.state = self.env.reset()\n",
    "        s0 = self.state\n",
    "        if display:\n",
    "            self.env.render()\n",
    "        # a0 = self.perform_policy(s0, epsilon)\n",
    "\n",
    "        time_in_episode, total_reward = 0, 0\n",
    "        is_done = False\n",
    "        while not is_done:\n",
    "            # add code here\n",
    "            self.policy = epsilon_greedy_policy\n",
    "            a0 = self.perform_policy(s0, self.Q, epsilon)\n",
    "            s1, r1, is_done, info, total_reward = self.act(a0)\n",
    "            if display:\n",
    "                self.env.render()\n",
    "            self.policy = greedy_policy\n",
    "            a1 = greedy_policy(self.A, s1, self.Q)\n",
    "            old_q = get_dict(self.Q, s0, a0)\n",
    "            q_prime = get_dict(self.Q, s1, a1)\n",
    "            td_target = r1 + gamma * q_prime\n",
    "            #alpha = alpha / num_episode\n",
    "            new_q = old_q + alpha * (td_target - old_q)\n",
    "            set_dict(self.Q, new_q, s0, a0)\n",
    "            # s0, a0 = s1, a1\n",
    "            s0 = s1\n",
    "            time_in_episode += 1\n",
    "        if display:\n",
    "            print(self.experience.last_episode)\n",
    "        return time_in_episode, total_reward    "
   ]
  },
  {
   "cell_type": "code",
   "execution_count": 3,
   "metadata": {
    "ExecuteTime": {
     "end_time": "2019-09-30T09:29:43.269318Z",
     "start_time": "2019-09-30T09:29:42.348706Z"
    },
    "scrolled": true
   },
   "outputs": [
    {
     "name": "stderr",
     "output_type": "stream",
     "text": [
      "100%|██████████| 800/800 [00:00<00:00, 902.39it/s]\n"
     ]
    }
   ],
   "source": [
    "env = WindyGridWorld()\n",
    "agent = QAgent(env)\n",
    "\n",
    "data = agent.learning(gamma = 1.0, \n",
    "                            epsilon = 0.1,\n",
    "                            decaying_epsilon = True,\n",
    "                            alpha = 0.5, \n",
    "                            max_episode_num = 800, \n",
    "                            display = False)\n"
   ]
  },
  {
   "cell_type": "code",
   "execution_count": 4,
   "metadata": {
    "ExecuteTime": {
     "end_time": "2019-09-30T09:29:45.093217Z",
     "start_time": "2019-09-30T09:29:44.988023Z"
    }
   },
   "outputs": [
    {
     "name": "stderr",
     "output_type": "stream",
     "text": [
      "100%|██████████| 100/100 [00:00<00:00, 1150.22it/s]\n"
     ]
    }
   ],
   "source": [
    "agent.learning_method(epsilon = 0.01, display = False)\n",
    "data = agent.learning(gamma = 1.0, display = False, max_episode_num = 100)"
   ]
  },
  {
   "cell_type": "code",
   "execution_count": 5,
   "metadata": {
    "ExecuteTime": {
     "end_time": "2019-09-30T09:29:46.046117Z",
     "start_time": "2019-09-30T09:29:45.770605Z"
    },
    "scrolled": false
   },
   "outputs": [
    {
     "name": "stderr",
     "output_type": "stream",
     "text": [
      "No handles with labels found to put in legend.\n"
     ]
    },
    {
     "data": {
      "image/png": "[encoded data removed]",
      "text/plain": [
       "<Figure size 432x288 with 1 Axes>"
      ]
     },
     "metadata": {
      "needs_background": "light"
     },
     "output_type": "display_data"
    }
   ],
   "source": [
    "learning_curve(data, x_index = 0, y1_index = 2, y2_index = None,\n",
    "               title=\"Q learning curve\", x_name = \"time step num\", y_name = \"episode num\")"
   ]
  },
  {
   "cell_type": "code",
   "execution_count": 6,
   "metadata": {
    "ExecuteTime": {
     "end_time": "2019-09-30T09:29:48.781733Z",
     "start_time": "2019-09-30T09:29:48.375351Z"
    }
   },
   "outputs": [
    {
     "data": {
      "text/plain": [
       "True"
      ]
     },
     "execution_count": 6,
     "metadata": {},
     "output_type": "execute_result"
    }
   ],
   "source": [
    "env.reset()\n",
    "env.render()\n",
    "#agent.learning(display = True, max_episode_num = 100)"
   ]
  },
  {
   "cell_type": "code",
   "execution_count": null,
   "metadata": {},
   "outputs": [],
   "source": []
  },
  {
   "cell_type": "code",
   "execution_count": 7,
   "metadata": {
    "ExecuteTime": {
     "end_time": "2019-09-30T09:29:54.150567Z",
     "start_time": "2019-09-30T09:29:54.134996Z"
    }
   },
   "outputs": [],
   "source": [
    "env.close()"
   ]
  },
  {
   "cell_type": "code",
   "execution_count": null,
   "metadata": {},
   "outputs": [],
   "source": []
  }
 ],
 "metadata": {
  "kernelspec": {
   "display_name": "Python 3",
   "language": "python",
   "name": "python3"
  },
  "language_info": {
   "codemirror_mode": {
    "name": "ipython",
    "version": 3
   },
   "file_extension": ".py",
   "mimetype": "text/x-python",
   "name": "python",
   "nbconvert_exporter": "python",
   "pygments_lexer": "ipython3",
   "version": "3.7.3"
  }
 },
 "nbformat": 4,
 "nbformat_minor": 2
}
