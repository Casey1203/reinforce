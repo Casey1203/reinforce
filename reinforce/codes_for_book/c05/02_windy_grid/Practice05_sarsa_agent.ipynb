{
 "cells": [
  {
   "cell_type": "code",
   "execution_count": 1,
   "metadata": {
    "ExecuteTime": {
     "end_time": "2019-09-30T07:50:46.875706Z",
     "start_time": "2019-09-30T07:50:46.384390Z"
    }
   },
   "outputs": [],
   "source": [
    "from random import random, choice\n",
    "from core import Agent\n",
    "from gym import Env\n",
    "import gym\n",
    "from gridworld import WindyGridWorld, SimpleGridWorld\n",
    "from utils import str_key, set_dict, get_dict\n",
    "from utils import epsilon_greedy_pi, epsilon_greedy_policy\n",
    "from utils import greedy_policy, learning_curve"
   ]
  },
  {
   "cell_type": "code",
   "execution_count": 2,
   "metadata": {
    "ExecuteTime": {
     "end_time": "2019-09-30T07:55:38.613022Z",
     "start_time": "2019-09-30T07:55:38.562680Z"
    }
   },
   "outputs": [],
   "source": [
    "class SarsaAgent(Agent):\n",
    "    def __init__(self, env:Env, capacity:int = 20000):\n",
    "        super(SarsaAgent, self).__init__(env, capacity)\n",
    "        self.Q = {}\n",
    "\n",
    "    def policy(self, A, s, Q, epsilon):\n",
    "        return epsilon_greedy_policy(A, s, Q, epsilon)\n",
    "\n",
    "    def learning_method(self, gamma = 0.9, alpha = 0.1, epsilon = 1e-5, display = False, lambda_ = None):\n",
    "        self.state = self.env.reset()\n",
    "        s0 = self.state\n",
    "        if display:\n",
    "            self.env.render()\n",
    "        a0 = self.perform_policy(s0, self.Q, epsilon)\n",
    "        # print(self.action_t.name)\n",
    "        time_in_episode, total_reward = 0, 0\n",
    "        is_done = False\n",
    "        while not is_done:\n",
    "            # add code here\n",
    "            s1, r1, is_done, info, total_reward = self.act(a0)\n",
    "            if display:\n",
    "                self.env.render()\n",
    "            a1 = self.perform_policy(s1, self.Q, epsilon)\n",
    "            old_q = get_dict(self.Q, s0, a0)\n",
    "            q_prime = get_dict(self.Q, s1, a1)\n",
    "            td_target = r1 + gamma * q_prime\n",
    "            #alpha = alpha / num_episode\n",
    "            # Q(S,A) = Q(S,A) + alpha * (R+gamma*Q(S',A')-Q(S,A))\n",
    "            new_q = old_q + alpha * (td_target - old_q)\n",
    "            set_dict(self.Q, new_q, s0, a0)\n",
    "            s0, a0 = s1, a1\n",
    "            time_in_episode += 1\n",
    "        if display:\n",
    "            print(self.experience.last_episode)\n",
    "        return time_in_episode, total_reward  \n"
   ]
  },
  {
   "cell_type": "code",
   "execution_count": 3,
   "metadata": {
    "ExecuteTime": {
     "end_time": "2019-09-30T07:55:42.527681Z",
     "start_time": "2019-09-30T07:55:41.916620Z"
    },
    "scrolled": true
   },
   "outputs": [
    {
     "name": "stderr",
     "output_type": "stream",
     "text": [
      "100%|██████████| 800/800 [00:00<00:00, 1339.82it/s]\n"
     ]
    }
   ],
   "source": [
    "env = WindyGridWorld()\n",
    "agent = SarsaAgent(env, capacity = 10000)\n",
    "\n",
    "statistics = agent.learning(gamma = 1.0, \n",
    "                            epsilon = 1,\n",
    "                            decaying_epsilon = True,\n",
    "                            alpha = 0.5, \n",
    "                            max_episode_num = 800, \n",
    "                            display = False)\n"
   ]
  },
  {
   "cell_type": "code",
   "execution_count": 8,
   "metadata": {
    "ExecuteTime": {
     "end_time": "2019-09-30T08:00:48.230260Z",
     "start_time": "2019-09-30T08:00:48.108082Z"
    },
    "scrolled": false
   },
   "outputs": [
    {
     "name": "stdout",
     "output_type": "stream",
     "text": [
      "episode 801    15 steps,total reward:-14.00  \n"
     ]
    },
    {
     "data": {
      "text/plain": [
       "(15, -14)"
      ]
     },
     "execution_count": 8,
     "metadata": {},
     "output_type": "execute_result"
    }
   ],
   "source": [
    "agent.learning_method(epsilon = 0.01, display = True)"
   ]
  },
  {
   "cell_type": "code",
   "execution_count": 9,
   "metadata": {
    "ExecuteTime": {
     "end_time": "2019-09-30T08:01:35.010674Z",
     "start_time": "2019-09-30T08:01:34.737879Z"
    },
    "scrolled": false
   },
   "outputs": [
    {
     "name": "stderr",
     "output_type": "stream",
     "text": [
      "No handles with labels found to put in legend.\n"
     ]
    },
    {
     "data": {
      "image/png": "[encoded data removed]",
      "text/plain": [
       "<Figure size 432x288 with 1 Axes>"
      ]
     },
     "metadata": {
      "needs_background": "light"
     },
     "output_type": "display_data"
    }
   ],
   "source": [
    "learning_curve(statistics, 0,2)\n",
    "# 坐标中文显示不友好"
   ]
  },
  {
   "cell_type": "code",
   "execution_count": 7,
   "metadata": {},
   "outputs": [
    {
     "data": {
      "text/plain": [
       "True"
      ]
     },
     "execution_count": 7,
     "metadata": {},
     "output_type": "execute_result"
    }
   ],
   "source": [
    "env.reset()\n",
    "env.render()\n",
    "#env.close()"
   ]
  },
  {
   "cell_type": "code",
   "execution_count": 8,
   "metadata": {},
   "outputs": [],
   "source": [
    "env.close()"
   ]
  },
  {
   "cell_type": "code",
   "execution_count": null,
   "metadata": {},
   "outputs": [],
   "source": []
  }
 ],
 "metadata": {
  "kernelspec": {
   "display_name": "Python 3",
   "language": "python",
   "name": "python3"
  },
  "language_info": {
   "codemirror_mode": {
    "name": "ipython",
    "version": 3
   },
   "file_extension": ".py",
   "mimetype": "text/x-python",
   "name": "python",
   "nbconvert_exporter": "python",
   "pygments_lexer": "ipython3",
   "version": "3.7.3"
  }
 },
 "nbformat": 4,
 "nbformat_minor": 2
}
