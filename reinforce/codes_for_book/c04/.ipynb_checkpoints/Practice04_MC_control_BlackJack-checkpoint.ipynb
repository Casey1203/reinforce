{
 "cells": [
  {
   "cell_type": "markdown",
   "metadata": {},
   "source": [
    "# 21点游戏的蒙特卡洛学习"
   ]
  },
  {
   "cell_type": "markdown",
   "metadata": {},
   "source": [
    "### 示例：二十一点游戏 Blackjack Example\n",
    "该示例解释了Model-Free下的策略评估问题和结果，没有说具体的学习过程。\n",
    "\n",
    "状态空间：（多达200种，根据对状态的定义可以有不同的状态空间，这里采用的定义是牌的分数，不包括牌型）由三个维度构成：\n",
    "\n",
    "当前牌的分数（12 - 21），低于12时，你可以安全的再叫牌，所以没意义。\n",
    "例如玩家手牌数等于11，还可以再叫牌，获得的牌数最大也就才10，不会爆。\n",
    "\n",
    "庄家出示的牌（A - 10），庄家会显示一张牌面给玩家\n",
    "\n",
    "我有“useable” ace吗？（是或否）A既可以当1点也可以当11点。\n",
    "\n",
    "行为空间：\n",
    "\n",
    "  停止要牌 stick\n",
    "  \n",
    "  继续要牌 twist\n",
    "  \n",
    "奖励（停止要牌）：\n",
    "\n",
    "+1：如果你的牌分数大于庄家分数\n",
    "\n",
    "0： 如果两者分数相同\n",
    "\n",
    "-1：如果你的牌分数小于庄家分数\n",
    "\n",
    "\n",
    "奖励（继续要牌）：\n",
    "\n",
    "-1：如果牌的分数>21，并且进入终止状态\n",
    "\n",
    "0：其它情况\n",
    "\n",
    "\n",
    "状态转换（Transitions）：如果牌分小于12时，自动要牌\n",
    "\n",
    "当前策略：牌分只要小于20就继续要牌。\n",
    "\n",
    "求解问题：评估该策略的好坏。\n",
    "\n",
    "\n",
    "求解过程：使用庄家显示的牌面值、玩家当前牌面总分值来确定一个二维状态空间，区分手中有无A分别处理。统计每一牌局下决定状态的庄家和玩家牌面的状态数据，同时计算其最终收获。通过模拟多次牌局，计算每一个状态下的平均值，得到如下图示。\n",
    "最终结果：无论玩家手中是否有A牌，该策略在绝大多数情况下各状态价值都较低，只有在玩家拿到21分时状态价值有一个明显的提升。"
   ]
  },
  {
   "cell_type": "markdown",
   "metadata": {},
   "source": [
    "## 1. 蒙特卡罗预测"
   ]
  },
  {
   "cell_type": "code",
   "execution_count": 10,
   "metadata": {
    "ExecuteTime": {
     "end_time": "2019-10-23T01:11:50.295500Z",
     "start_time": "2019-10-23T01:11:50.289169Z"
    }
   },
   "outputs": [],
   "source": [
    "from random import shuffle\n",
    "from queue import Queue\n",
    "from tqdm import tqdm\n",
    "import math\n",
    "import matplotlib.pyplot as plt\n",
    "import numpy as np\n",
    "from mpl_toolkits.mplot3d import Axes3D\n",
    "from utils import str_key, set_dict, get_dict"
   ]
  },
  {
   "cell_type": "code",
   "execution_count": 11,
   "metadata": {
    "ExecuteTime": {
     "end_time": "2019-10-23T01:11:50.795824Z",
     "start_time": "2019-10-23T01:11:50.769658Z"
    }
   },
   "outputs": [],
   "source": [
    "A = [\"继续叫牌\",\"停止叫牌\"]  \n",
    "#A = [0,1]  \n",
    "def value_of(card):\n",
    "    '''根据牌的字符判断牌的数值大小，A被输出为1, JQK均为10，其余按牌字符对应的数字取值\n",
    "    Args:\n",
    "        card: 牌面信息 str\n",
    "    Return:\n",
    "        牌的大小数值 int, A 返回 1\n",
    "    '''\n",
    "    try:\n",
    "        v = int(card)\n",
    "    except:\n",
    "        if card == 'A':\n",
    "            v = 1\n",
    "        elif card in ['J','Q','K']:\n",
    "            v = 10\n",
    "        else:\n",
    "            v = 0\n",
    "    finally:\n",
    "        return v\n",
    "\n",
    "def points_of(cards):\n",
    "    '''统计一手牌分值，如果使用了A的1点，同时返回True\n",
    "    Args:\n",
    "        cards 庄家或玩家手中的牌 list ['A','10','3']\n",
    "    Return\n",
    "        tuple (返回牌总点数,是否使用了可复用Ace) \n",
    "        例如['A','10','3'] 返回 (14, True)\n",
    "           ['A','10'] 返回 （21, False)\n",
    "    '''\n",
    "    num_of_useable_ace = 0 # 默认没有拿到Ace\n",
    "    total_point = 0 # 总值\n",
    "    if cards is None:\n",
    "        return 0, False\n",
    "    for card in cards:\n",
    "        v = value_of(card)\n",
    "        if v == 1:\n",
    "            num_of_useable_ace += 1\n",
    "            v = 11\n",
    "        total_point += v\n",
    "    while total_point > 21 and num_of_useable_ace > 0:\n",
    "        total_point -= 10\n",
    "        num_of_useable_ace -= 1\n",
    "    return total_point, bool(num_of_useable_ace)\n",
    "    \n",
    "def get_state(dealer, player):\n",
    "    '''显示完整的状态，包括庄家的总分、玩家的总分、玩家是否有useable_ace\n",
    "    '''\n",
    "    player_points, useable_ace = points_of(player.cards)\n",
    "    #dealer = list(dealer) # 考虑到dealer只传第一张牌字符串的情况\n",
    "    # TODO 感觉这里有bug，因为agent无法知道当前dealer手里的牌的总点数，仅知道第一张牌点数\n",
    "    # Done!\n",
    "#     dealer_points, _ = points_of(dealer.cards)\n",
    "    dealer_first_point = value_of(dealer.cards[0])\n",
    "#     return dealer_points, player_points, int(useable_ace)\n",
    "    return dealer_first_point, player_points, int(useable_ace)\n",
    "\n",
    "def get_state_name(dealer, player):\n",
    "    '''只获得庄家的第一张牌信息和总点数信息，以及有无useable_ace，形成字符串作为字典键\n",
    "    '''\n",
    "    player_points, useable_ace = points_of(player.cards)\n",
    "    first_dealer_card = 0\n",
    "    if dealer.cards is None or len(dealer.cards) == 0:\n",
    "        pass\n",
    "    else:\n",
    "        first_dealer_card = value_of(dealer.cards[0])\n",
    "    return str(first_dealer_card) + \"_\" + str(player_points) + \"_\" + str(int(useable_ace))\n",
    "\n",
    "\n",
    "def reward_of(dealer, player):\n",
    "    '''判断玩家奖励值，附带玩家、庄家的牌点信息\n",
    "    '''\n",
    "    dealer_points, _ = points_of(dealer.cards)\n",
    "    player_points, useable_ace = points_of(player.cards)\n",
    "    if player_points > 21: # 如果玩家爆点\n",
    "        reward = -1\n",
    "    else:\n",
    "        if player_points > dealer_points or dealer_points > 21:\n",
    "            reward = 1\n",
    "        elif player_points == dealer_points:\n",
    "            reward = 0\n",
    "        else:\n",
    "            reward = -1\n",
    "    return reward, player_points, dealer_points, useable_ace\n",
    "\n"
   ]
  },
  {
   "cell_type": "code",
   "execution_count": 12,
   "metadata": {
    "ExecuteTime": {
     "end_time": "2019-10-23T01:11:52.533816Z",
     "start_time": "2019-10-23T01:11:52.524797Z"
    }
   },
   "outputs": [],
   "source": [
    "# 辅助函数：读取字典\n",
    "def str_key(*args):\n",
    "    '''将参数用\"_\"连接起来作为字典的键，需注意参数本身不是基本数据类型，而是tuple或者list型，\n",
    "    比如类似((a,b,c),d)的形式。\n",
    "    '''\n",
    "    new_arg = []\n",
    "    for arg in args:\n",
    "        if type(arg) in [tuple, list]:\n",
    "            new_arg += [str(i) for i in arg]\n",
    "        else:\n",
    "            new_arg.append(str(arg))\n",
    "    return \"_\".join(new_arg)\n",
    "\n",
    "def set_dict(target_dict, value, *args):\n",
    "    target_dict[str_key(*args)] = value\n",
    "\n",
    "def get_dict(target_dict, *args):\n",
    "    #print(\"key: {}\".format(str_key(*args)))\n",
    "    return target_dict.get(str_key(*args),0)"
   ]
  },
  {
   "cell_type": "code",
   "execution_count": 13,
   "metadata": {
    "ExecuteTime": {
     "end_time": "2019-10-23T01:11:53.676002Z",
     "start_time": "2019-10-23T01:11:53.665543Z"
    }
   },
   "outputs": [
    {
     "name": "stdout",
     "output_type": "stream",
     "text": [
      "10_20_0_0\n",
      "10_20_0_1\n",
      "10_20_0_1\n",
      "0_20_0_1\n",
      "0_20_0_1\n"
     ]
    }
   ],
   "source": [
    "print(str_key(10,20,(0,0)))\n",
    "print(str_key((10,20),(0,1)))\n",
    "print(str_key(10,20,0,1))\n",
    "print(str_key(0,20,0,1))\n",
    "print(str_key((0,20,0,1)))"
   ]
  },
  {
   "cell_type": "code",
   "execution_count": 14,
   "metadata": {
    "ExecuteTime": {
     "end_time": "2019-10-23T01:11:55.498332Z",
     "start_time": "2019-10-23T01:11:55.475162Z"
    }
   },
   "outputs": [],
   "source": [
    "class Person():\n",
    "    def __init__(self, name=\"\"):\n",
    "        self.name = name\n",
    "    \n",
    "    def __str__(self):\n",
    "        return self.name\n",
    "\n",
    "class Player(Person):\n",
    "    def __init__(self, policy = None, name=\"\", role = \"\", display = False, A = A):\n",
    "        super(Player, self).__init__(name)\n",
    "        self.cards = [] # 玩家手中的牌\n",
    "        self.policy = policy # 策略\n",
    "        self.Q = {}   # 某一状态行为对的价值\n",
    "        self.Nsa = {} # Nsa的计数：某一状态行为对出现的次数\n",
    "        self.role = role # “庄家”还是“玩家”，庄家是特殊的玩家\n",
    "        self.A = A #行为空间\n",
    "        self.display = display # 是否使用print输出信息了解战局或计算情况\n",
    "        self.total_learning_times = 0\n",
    "     \n",
    "    def receive(self, cards = []): # 玩家获得一张或多张牌\n",
    "        cards = list(cards)\n",
    "        for card in cards:\n",
    "            self.cards.append(card)\n",
    "    \n",
    "    def discharge_cards(self): # 玩家把手中的牌清空，扔牌\n",
    "        '''扔牌\n",
    "        '''\n",
    "        self.cards.clear()\n",
    "    \n",
    "    def cards_info(self): # 玩家手中牌的信息\n",
    "        '''\n",
    "        显示牌面具体信息\n",
    "        '''\n",
    "        self._info(\"{}{}现在的牌:{}\\n\".format(self.role, self,self.cards))\n",
    "    \n",
    "    def _info(self, msg):\n",
    "        if self.display:\n",
    "            print(msg, end=\"\")\n",
    "            \n",
    "    def learn_Q(self, episode, r): # 从状态序列来学习Q值\n",
    "        '''从Episode学习,属于policy evaluation过程\n",
    "        '''\n",
    "        #for episode, r in episodes:\n",
    "        for s, a in episode: # every time step\n",
    "            nsa = get_dict(self.Nsa, s, a) # get count number\n",
    "            set_dict(self.Nsa, nsa+1, s, a)\n",
    "            q = get_dict(self.Q, s,a)\n",
    "            set_dict(self.Q, q+(r-q)/(nsa+1), s, a) # increment mean\n",
    "        self.total_learning_times += 1\n",
    "    \n",
    "    def reset_memory(self):\n",
    "        '''忘记既往学习经历\n",
    "        '''\n",
    "        self.Q.clear()\n",
    "        self.Nsa.clear()\n",
    "        self.total_learning_times = 0\n"
   ]
  },
  {
   "cell_type": "code",
   "execution_count": 15,
   "metadata": {
    "ExecuteTime": {
     "end_time": "2019-10-23T01:12:02.185535Z",
     "start_time": "2019-10-23T01:12:02.116150Z"
    }
   },
   "outputs": [],
   "source": [
    "class Arena():\n",
    "    '''负责游戏管理\n",
    "    '''\n",
    "    def __init__(self, display = None, A = A):\n",
    "        self.cards = ['A','2','3','4','5','6','7','8','9','10','J','Q',\"K\"]*4\n",
    "        self.card_q = Queue(maxsize = 52) # 洗好的牌\n",
    "        self.cards_in_pool = [] # 已经用过的公开的牌  \n",
    "        self.display = display\n",
    "        self.episodes = [] # 产生的对局信息列表\n",
    "        self.load_cards(self.cards)# 把初始状态的52张牌装入发牌器\n",
    "        self.A = A # 获得行为空间\n",
    "        \n",
    "    def play_game(self, dealer, player):\n",
    "        '''玩一局21点，生成一个状态序列以及最终奖励（中间奖励为0）\n",
    "        Args：\n",
    "            dealer/player 庄家和玩家手中的牌 list\n",
    "        Returns:\n",
    "            tuple：episode, reward\n",
    "        '''\n",
    "        #self.collect_player_cards()\n",
    "        self._info(\"========= 开始新一局 =========\\n\")\n",
    "        self.serve_card_to(player, n=2) # 发两张牌给玩家\n",
    "        self.serve_card_to(dealer, n=2) # 发两张牌给庄家\n",
    "        episode = [] # 记录一个对局信息\n",
    "        if player.policy is None:\n",
    "            self._info(\"玩家需要一个策略\")\n",
    "            return\n",
    "        if dealer.policy is None:\n",
    "            self._info(\"庄家需要一个策略\")\n",
    "            return\n",
    "        while True:\n",
    "            s = get_state(dealer = dealer, player = player) # 获取状态信息\n",
    "            #epsilon = 1.0/(1 + math.sqrt(1 + player.total_learning_times))\n",
    "            epsilon = 1.0/(1 + 10 * math.log10(1+player.total_learning_times))\n",
    "            action = player.policy(player.A, s, dealer, player.Q, epsilon)\n",
    "            # 玩家的策略产生一个行为\n",
    "            self._info(\"{}{}选择:{};\".format(player.role, player, action))\n",
    "            if action == self.A[0]: # 继续叫牌\n",
    "                episode.append((get_state_name(dealer, player), action)) # 记录一个(s,a)\n",
    "                self.serve_card_to(player) # 发一张牌给玩家\n",
    "            else: # 停止叫牌\n",
    "                episode.append((get_state_name(dealer, player), self.A[1])) # 记录一个(s,a)\n",
    "                break\n",
    "        # 玩家停止叫牌后要计算下玩家手中的点数，玩家如果爆了，庄家就不用继续了        \n",
    "        reward, player_points, dealer_points, useable_ace = reward_of(dealer, player)\n",
    "        \n",
    "        if player_points > 21:\n",
    "            self._info(\"玩家爆点{}输了，得分:{}\\n\".format(player_points, reward))\n",
    "            self.recycle_cards(player, dealer)\n",
    "            self.episodes.append((episode, reward)) # 预测的时候需要形成episode list后同一学习V\n",
    "            # 在蒙特卡洛控制的时候，可以不需要episodes list,生成一个episode学习一个，下同\n",
    "            self._info(\"========= 本局结束 ==========\\n\")\n",
    "            return episode, reward\n",
    "        # 玩家并没有超过21点\n",
    "        self._info(\"\\n\")\n",
    "        while True:\n",
    "            s = get_state(dealer = dealer, player = player) # 获取状态信息\n",
    "            action = dealer.policy(self.A, s, dealer, None, None) # 庄家从其策略中获取一个行为\n",
    "            self._info(\"{}{}选择:{};\".format(dealer.role, dealer, action))\n",
    "            if action == self.A[0]: # 庄家\"继续要牌\":\n",
    "                self.serve_card_to(dealer)\n",
    "                # 停止要牌是针对玩家来说的，episode不记录庄家动作\n",
    "                # 在状态只记录庄家第一章牌信息时，可不重复记录(s,a)，因为此时玩家不再叫牌，(s,a)均相同\n",
    "                # episode.append((get_state_name(dealer, player), self.A[1]))\n",
    "            else:\n",
    "                break\n",
    "        # 双方均停止叫牌了    \n",
    "        self._info(\"\\n双方均了停止叫牌;\\n\")\n",
    "        reward, player_points, dealer_points, useable_ace = reward_of(dealer, player)\n",
    "        player.cards_info() \n",
    "        dealer.cards_info()\n",
    "        if reward == +1:\n",
    "            self._info(\"玩家赢了!\")\n",
    "        elif reward == -1:\n",
    "            self._info(\"玩家输了!\")\n",
    "        else:\n",
    "            self._info(\"双方和局!\")\n",
    "        self._info(\"玩家{}点,庄家{}点\\n\".format(player_points, dealer_points))\n",
    "        \n",
    "        self._info(\"========= 本局结束 ==========\\n\")\n",
    "        self.recycle_cards(player, dealer) # 回收玩家和庄家手中的牌至公开牌池\n",
    "        self.episodes.append((episode, reward)) # 将刚才产生的完整对局添加值状态序列列表，蒙特卡洛控制不需要\n",
    "        return episode, reward\n",
    "    \n",
    "    def play_games(self, dealer, player, num=2, show_statistic = False):\n",
    "        '''一次性玩多局游戏\n",
    "        '''\n",
    "        results = [0, 0, 0]# 玩家负、和、胜局数\n",
    "        self.episodes.clear()\n",
    "        for i in tqdm(range(num)):\n",
    "            episode, reward = self.play_game(dealer, player)\n",
    "            results[1+reward] += 1\n",
    "            player.learn_Q(episode ,reward) # 每盘结束后，更新一下Q值\n",
    "        if show_statistic:\n",
    "            print(\"共玩了{}局，玩家赢{}局，和{}局，输{}局，胜率：{:.2f}\"\\\n",
    "              .format(num, results[2],results[1],results[0],results[2]/num))\n",
    "        pass\n",
    "        \n",
    "    def load_cards(self, cards):\n",
    "        '''把收集的牌洗一洗，重新装到发牌器中\n",
    "        Args:\n",
    "            cards 要装入发牌器的多张牌 list\n",
    "        Return:\n",
    "            None\n",
    "        '''\n",
    "        shuffle(cards) # 洗牌\n",
    "        for card in cards:# deque数据结构只能一个一个添加\n",
    "            self.card_q.put(card)\n",
    "        cards.clear() # 原来的牌清空\n",
    "        return\n",
    "    \n",
    "    \n",
    "    def serve_card_to(self, player, n = 1):\n",
    "        '''给庄家或玩家发牌，如果牌不够则将公开牌池的牌洗一洗重新发牌\n",
    "        Args:\n",
    "            player 一个庄家或玩家 \n",
    "            n 一次连续发牌的数量\n",
    "        Return:\n",
    "            None\n",
    "        '''\n",
    "        cards = []  #将要发出的牌\n",
    "        for _ in range(n):\n",
    "            # 要考虑发牌器没有牌的情况\n",
    "            if self.card_q.empty():\n",
    "                self._info(\"\\n发牌器没牌了，整理废牌，重新洗牌;\")\n",
    "                shuffle(self.cards_in_pool)\n",
    "                self._info(\"一共整理了{}张已用牌，重新放入发牌器\\n\".format(len(self.cards_in_pool)))\n",
    "                assert(len(self.cards_in_pool) > 20) # 确保有足够的牌，将该数值设置成40左右时，如果玩家\n",
    "                # 即使爆点了也持续的叫牌，会导致玩家手中牌变多而发牌器和已使用的牌都很少，需避免这种情况。\n",
    "                self.load_cards(self.cards_in_pool) # 将收集来的用过的牌洗好送入发牌器重新使用\n",
    "            cards.append(self.card_q.get()) # 从发牌器发出一章牌\n",
    "        self._info(\"发了{}张牌({})给{}{};\".format(n, cards, player.role, player))\n",
    "        #self._info(msg)\n",
    "        player.receive(cards) # 牌已发给某一玩家\n",
    "        player.cards_info()\n",
    "\n",
    "    def recycle_cards(self, *players):\n",
    "        '''回收玩家手中的牌到公开使用过的牌池中\n",
    "        '''\n",
    "        if len(players) == 0:\n",
    "            return\n",
    "        for player in players:\n",
    "            for card in player.cards:\n",
    "                self.cards_in_pool.append(card)\n",
    "            player.discharge_cards() # 玩家手中不再留有这些牌\n",
    "            \n",
    "    def _info(self, message):\n",
    "        if self.display:\n",
    "            print(message, end=\"\")"
   ]
  },
  {
   "cell_type": "code",
   "execution_count": 22,
   "metadata": {
    "ExecuteTime": {
     "end_time": "2019-10-23T01:13:00.617876Z",
     "start_time": "2019-10-23T01:13:00.605711Z"
    }
   },
   "outputs": [],
   "source": [
    "def policy_for_dealer(A, s, dealer, Q = None, k = None):\n",
    "    '''庄家策略,不同的策略需要的参数不一样，这是玩家所能参考的最多的信息\n",
    "       庄家的策略是，如果点数小于17点，就继续要牌，否则停止要牌\n",
    "    Args:\n",
    "        A 行为空间 list []\n",
    "        s 状态空间 s = (dealer_points, player_points, useable_ace) tuple\n",
    "        Q 行为价值字典 {}\n",
    "        k 对局的次数，用于计算epsilon-greedy算法中的epsilon\n",
    "    '''\n",
    "    dealer_points, _ = points_of(dealer.cards)\n",
    "    _, player_points, useable_ace = s\n",
    "    action = \"\"\n",
    "    if dealer_points >= 17:#or player_points > 21:\n",
    "        action = A[1] # \"停止要牌\"\n",
    "    else:\n",
    "        action = A[0]\n",
    "    #elif dealer_points < player_points:\n",
    "    #    action = A[0] # \"继续要牌\"\n",
    "    #else:\n",
    "    #    action = A[1] # \"停止要牌\"\n",
    "    return action\n",
    "\n",
    "\n",
    "def naive_policy(A, s, dealer, Q = None, k = None):\n",
    "    '''原始策略，玩家只要手中的牌值低于20就会持续叫牌\n",
    "    '''\n",
    "    _, player_points, _ = s\n",
    "    action = \"\"\n",
    "    if player_points < 20:\n",
    "        action = A[0]\n",
    "    else:\n",
    "        action = A[1]        \n",
    "    return action  \n"
   ]
  },
  {
   "cell_type": "code",
   "execution_count": 23,
   "metadata": {
    "ExecuteTime": {
     "end_time": "2019-10-23T01:13:02.185151Z",
     "start_time": "2019-10-23T01:13:02.176014Z"
    }
   },
   "outputs": [],
   "source": [
    "display = False\n",
    "# 创建一个玩家一个庄家，玩家使用原始策略，庄家使用其固定的策略\n",
    "player = Player(policy = naive_policy, role=\"玩家\", display = display)\n",
    "dealer = Player(policy = policy_for_dealer, role = \"庄家\", display = display)\n",
    "# 创建一个场景\n",
    "arena = Arena(display=display)\n",
    "# 生成num个完整的对局"
   ]
  },
  {
   "cell_type": "code",
   "execution_count": 24,
   "metadata": {
    "ExecuteTime": {
     "end_time": "2019-10-23T01:13:06.909377Z",
     "start_time": "2019-10-23T01:13:02.632469Z"
    }
   },
   "outputs": [
    {
     "name": "stderr",
     "output_type": "stream",
     "text": [
      "100%|██████████| 20000/20000 [00:04<00:00, 4705.08it/s]\n"
     ]
    }
   ],
   "source": [
    "arena.play_games(dealer, player, num=20000)"
   ]
  },
  {
   "cell_type": "code",
   "execution_count": 26,
   "metadata": {
    "ExecuteTime": {
     "end_time": "2019-10-23T01:14:32.712983Z",
     "start_time": "2019-10-23T01:14:32.709824Z"
    }
   },
   "outputs": [],
   "source": [
    "# player.Q"
   ]
  },
  {
   "cell_type": "code",
   "execution_count": 27,
   "metadata": {
    "ExecuteTime": {
     "end_time": "2019-10-23T01:15:02.772061Z",
     "start_time": "2019-10-23T01:15:02.765317Z"
    }
   },
   "outputs": [],
   "source": [
    "# 统计各状态的价值，衰减因子为1，中间状态的即时奖励为0，递增式蒙特卡洛评估\n",
    "def learn_V(episodes, V, Ns):\n",
    "    for episode, r in episodes:\n",
    "        for s, a in episode:\n",
    "            ns = get_dict(Ns, s)\n",
    "            v = get_dict(V, s)\n",
    "            set_dict(Ns, ns+1, s)\n",
    "            set_dict(V, v+(r-v)/(ns+1), s)\n",
    "        "
   ]
  },
  {
   "cell_type": "code",
   "execution_count": 28,
   "metadata": {
    "ExecuteTime": {
     "end_time": "2019-10-23T01:15:03.583819Z",
     "start_time": "2019-10-23T01:15:03.302596Z"
    },
    "scrolled": true
   },
   "outputs": [],
   "source": [
    "V = {} # 状态价值字典\n",
    "Ns = {} # 状态被访问的次数节点\n",
    "learn_V(arena.episodes, V, Ns) # 学习V值"
   ]
  },
  {
   "cell_type": "code",
   "execution_count": 111,
   "metadata": {
    "ExecuteTime": {
     "end_time": "2019-10-23T02:16:39.990503Z",
     "start_time": "2019-10-23T02:16:39.965428Z"
    }
   },
   "outputs": [],
   "source": [
    "def draw_value(value_dict, useable_ace = 0, is_q_dict = False, A = None):\n",
    "    # 定义figure\n",
    "    fig = plt.figure()\n",
    "    # 将figure变为3d\n",
    "    ax = Axes3D(fig)\n",
    "    # 定义x, y\n",
    "    x = np.arange(1, 11, 1) # 庄家第一张牌\n",
    "    y = np.arange(12, 32, 1) # 玩家总分数\n",
    "    # 生成网格数据\n",
    "    X, Y = np.meshgrid(x, y)\n",
    "    # 从V字典检索Z轴的高度\n",
    "    row, col = X.shape\n",
    "    Z = np.zeros((row,col))\n",
    "    if is_q_dict:\n",
    "        n = len(A)\n",
    "    for i in range(row):\n",
    "        for j in range(col):\n",
    "            state_name = str(X[i,j])+\"_\"+str(Y[i,j])+\"_\"+str(useable_ace)\n",
    "            if not is_q_dict:\n",
    "                Z[i,j] = get_dict(value_dict, state_name)\n",
    "            else:\n",
    "                assert(A is not None)\n",
    "                for a in A:\n",
    "                    new_state_name = state_name + \"_\" + str(a)\n",
    "                    q = get_dict(value_dict, new_state_name)\n",
    "                    if q >= Z[i,j]:\n",
    "                        Z[i,j] = q\n",
    "    # 绘制3D曲面\n",
    "    ax.plot_surface(X, Y, Z, rstride = 1, cstride = 1, cmap = plt.cm.cool)\n",
    "    plt.show()"
   ]
  },
  {
   "cell_type": "code",
   "execution_count": 112,
   "metadata": {
    "ExecuteTime": {
     "end_time": "2019-10-23T02:16:41.941734Z",
     "start_time": "2019-10-23T02:16:41.673105Z"
    }
   },
   "outputs": [
    {
     "data": {
      "image/png": "[encoded data removed]",
      "text/plain": [
       "<Figure size 432x288 with 1 Axes>"
      ]
     },
     "metadata": {
      "needs_background": "light"
     },
     "output_type": "display_data"
    }
   ],
   "source": [
    "draw_value(V) # 绘制状态价值图"
   ]
  },
  {
   "cell_type": "markdown",
   "metadata": {},
   "source": [
    "## 2. 蒙特卡洛控制"
   ]
  },
  {
   "cell_type": "code",
   "execution_count": 90,
   "metadata": {
    "ExecuteTime": {
     "end_time": "2019-10-23T01:59:40.204878Z",
     "start_time": "2019-10-23T01:59:40.179713Z"
    }
   },
   "outputs": [],
   "source": [
    "import random    # 随机策略时用到\n",
    "\n",
    "def greedy_pi(A, s, dealer, Q, a):\n",
    "    '''依据贪婪选择，计算在行为空间A中，状态s下，a行为被贪婪选中的几率\n",
    "    考虑多个行为的价值相同的情况，返回概率值\n",
    "    '''\n",
    "    #print(\"in greedy_pi: s={},a={}\".format(s,a))\n",
    "    max_q, a_max_q = -float('inf'), []\n",
    "    for a_opt in A:# 统计后续状态的最大价值以及到达到达该状态的行为（可能不止一个）\n",
    "#         print('Q:',type(Q))\n",
    "        q = get_dict(Q, s, a_opt)\n",
    "        #print(\"get q from dict Q:{}\".format(q))\n",
    "        if q > max_q:\n",
    "            max_q = q\n",
    "            a_max_q = [a_opt]\n",
    "        elif q == max_q:\n",
    "            #print(\"in greedy_pi: {} == {}\".format(q,max_q))\n",
    "            a_max_q.append(a_opt)\n",
    "    n = len(a_max_q)\n",
    "    if n == 0: return 0.0\n",
    "    return 1.0/n if a in a_max_q else 0.0\n",
    "\n",
    "def greedy_policy(A, s, Q):\n",
    "    \"\"\"在给定一个状态下，从行为空间A中选择一个行为a，使得Q(s,a) = max(Q(s,))\n",
    "    考虑到多个行为价值相同的情况，返回动作\n",
    "    \"\"\"\n",
    "    max_q, a_max_q = -float('inf'), []\n",
    "    for a_opt in A:\n",
    "        q = get_dict(Q, s, a_opt)\n",
    "        if q > max_q:\n",
    "            max_q = q\n",
    "            a_max_q = [a_opt]\n",
    "        elif q == max_q:\n",
    "            a_max_q.append(a_opt)\n",
    "    return random.choice(a_max_q)\n",
    "        \n",
    "def epsilon_greedy_pi(A, s, dealer, Q, a, epsilon = 0.1):\n",
    "    \"\"\"\n",
    "    将输入的action a送到greedy_pi中，看返回的概率是否等于0,若是，则该action不是最优的，那么采取该action的概率是epsilon/m\n",
    "    如果不等于0，则该action是最优的，返回的概率是(1 - epsilon) * greedy_p + epsilon/m\n",
    "    \"\"\"\n",
    "    m = len(A)\n",
    "    greedy_p = greedy_pi(A, s, dealer, Q, a)\n",
    "    #print(\"greedy prob:{}\".format(greedy_p))\n",
    "    if greedy_p == 0:\n",
    "        return epsilon / m\n",
    "    n = int(1.0/greedy_p)\n",
    "    return (1 - epsilon) * greedy_p + epsilon/m\n",
    "\n",
    "\n",
    "def epsilon_greedy_policy(A, s, dealer, Q, epsilon, show_random_num = False):\n",
    "    \"\"\"\n",
    "    首先计算acion space中所有action，在epsilon greedy pi下的概率，保存在pis中\n",
    "    然后生成一个随机数，对pis里的元素进行累加，首次超过该随机数，就返回对应的action\n",
    "    \"\"\"\n",
    "    pis = []\n",
    "    m = len(A)\n",
    "    for i in range(m):\n",
    "        pis.append(epsilon_greedy_pi(A, s, dealer, Q, A[i], epsilon))\n",
    "    rand_value = random.random() # 产生一个0,1的随机数\n",
    "    #if show_random_num:\n",
    "    #    print(\"产生的随机数概率为:{:.2f}\".format(rand_value))\n",
    "    #print(rand_value)\n",
    "    for i in range(m):\n",
    "        if show_random_num:\n",
    "            print(\"随机数:{:.2f}, 拟减去概率{}\".format(rand_value, pis[i]))\n",
    "        rand_value -= pis[i]\n",
    "        if rand_value < 0:\n",
    "            return A[i]\n",
    "\n",
    "def epsilon_greedy_black_jack_policy(A, s, dealer, Q, epsilon, show_random_num = False):\n",
    "    \"\"\"\n",
    "    如果点数小于12，则要牌\n",
    "    否则，按照epsilon greedy policy返回action\n",
    "    \"\"\"\n",
    "    _, player_points, _ = s\n",
    "    if player_points >= 21:\n",
    "        return A[1]\n",
    "    if player_points < 12:\n",
    "        return A[0]\n",
    "    else:\n",
    "        return epsilon_greedy_policy(A, s, dealer, Q, epsilon, show_random_num)\n"
   ]
  },
  {
   "cell_type": "code",
   "execution_count": 91,
   "metadata": {
    "ExecuteTime": {
     "end_time": "2019-10-23T01:59:41.318676Z",
     "start_time": "2019-10-23T01:59:41.309228Z"
    }
   },
   "outputs": [],
   "source": [
    "# 测试上面三个函数\n",
    "# 随机生成Q函数\n",
    "test_S = [str(i) for i in range(10)] # 10个状态\n",
    "test_A = [str(i) for i in range(3)] # 3个行为\n",
    "test_Q = {}\n",
    "for s in test_S:\n",
    "    for a in test_A:\n",
    "        set_dict(test_Q, random.random(), s, a)"
   ]
  },
  {
   "cell_type": "code",
   "execution_count": 92,
   "metadata": {
    "ExecuteTime": {
     "end_time": "2019-10-23T01:59:41.650283Z",
     "start_time": "2019-10-23T01:59:41.639807Z"
    }
   },
   "outputs": [],
   "source": [
    "def Q_of_s(A, s, Q):\n",
    "    # 将状态s下的所有可能的q(s,a)返回\n",
    "    qs = []\n",
    "    for i in range(len(A)):\n",
    "        qs.append(get_dict(Q, s, A[i]))\n",
    "    return qs\n",
    "\n",
    "       \n",
    "def verify_greedy_policy(A, S, Q):\n",
    "    # 遍历每个状态，在每个状态下跟随greedy policy策略\n",
    "    # 通过该策略选出的action，对应的q，应该是在该状态下最大的max_a{q(s,a)}\n",
    "    for s in S:\n",
    "        qs = Q_of_s(A, s, Q) # list of q(s,a),变量为a\n",
    "        print(\"Q({},)={}\".format(s,qs))\n",
    "        a = greedy_policy(A, s, Q)\n",
    "        qsa = get_dict(Q, s, a)\n",
    "        max_qs = max(qs)\n",
    "        print(\"q({},{}) = {},{}\".format(s, a, qsa, max_qs))\n",
    "        if qsa == max(qs):\n",
    "            print(\"verified\")\n",
    "        else:\n",
    "            print(\"wrong\")"
   ]
  },
  {
   "cell_type": "code",
   "execution_count": 93,
   "metadata": {
    "ExecuteTime": {
     "end_time": "2019-10-23T01:59:44.305481Z",
     "start_time": "2019-10-23T01:59:44.295879Z"
    }
   },
   "outputs": [
    {
     "name": "stdout",
     "output_type": "stream",
     "text": [
      "Q(0,)=[0.8527953872184005, 0.42404886518437346, 0.3990014177488559]\n",
      "q(0,0) = 0.8527953872184005,0.8527953872184005\n",
      "verified\n",
      "Q(1,)=[0.7271250331639454, 0.1286128206427496, 0.9090022048649291]\n",
      "q(1,2) = 0.9090022048649291,0.9090022048649291\n",
      "verified\n",
      "Q(2,)=[0.002733103537756798, 0.5297940816329021, 0.2823922562796659]\n",
      "q(2,1) = 0.5297940816329021,0.5297940816329021\n",
      "verified\n",
      "Q(3,)=[0.11598365694078616, 0.5952064890445999, 0.2951400650731155]\n",
      "q(3,1) = 0.5952064890445999,0.5952064890445999\n",
      "verified\n",
      "Q(4,)=[0.08318908997204533, 0.3824337279502811, 0.8629895076400488]\n",
      "q(4,2) = 0.8629895076400488,0.8629895076400488\n",
      "verified\n",
      "Q(5,)=[0.5947114495318155, 0.573789108227083, 0.8427202772309301]\n",
      "q(5,2) = 0.8427202772309301,0.8427202772309301\n",
      "verified\n",
      "Q(6,)=[0.5139942885569535, 0.9229824514978295, 0.19589796398182813]\n",
      "q(6,1) = 0.9229824514978295,0.9229824514978295\n",
      "verified\n",
      "Q(7,)=[0.07744663610385749, 0.6720680638417168, 0.030851958080546416]\n",
      "q(7,1) = 0.6720680638417168,0.6720680638417168\n",
      "verified\n",
      "Q(8,)=[0.3914437716793403, 0.802172310071294, 0.7467624759153172]\n",
      "q(8,1) = 0.802172310071294,0.802172310071294\n",
      "verified\n",
      "Q(9,)=[0.21108832849222736, 0.617227759325574, 0.38459772086017197]\n",
      "q(9,1) = 0.617227759325574,0.617227759325574\n",
      "verified\n"
     ]
    }
   ],
   "source": [
    "verify_greedy_policy(test_A, test_S, test_Q)"
   ]
  },
  {
   "cell_type": "code",
   "execution_count": 94,
   "metadata": {
    "ExecuteTime": {
     "end_time": "2019-10-23T01:59:55.539267Z",
     "start_time": "2019-10-23T01:59:55.528998Z"
    }
   },
   "outputs": [
    {
     "data": {
      "text/plain": [
       "'2'"
      ]
     },
     "execution_count": 94,
     "metadata": {},
     "output_type": "execute_result"
    }
   ],
   "source": [
    "test_Q['3_0'], test_Q['3_1'], test_Q['3_2'] = 0.2,0.4,0.5\n",
    "s,a = '3','1'\n",
    "epsilon_greedy_policy(test_A, s, Player(), test_Q, epsilon=0.1)"
   ]
  },
  {
   "cell_type": "code",
   "execution_count": 105,
   "metadata": {
    "ExecuteTime": {
     "end_time": "2019-10-23T02:12:34.266824Z",
     "start_time": "2019-10-23T02:12:34.252776Z"
    }
   },
   "outputs": [],
   "source": [
    "def draw_policy(policy, dealer, A, Q, epsilon, useable_ace = 0):\n",
    "    def value_of(a):\n",
    "        if a == A[0]:\n",
    "            return 0\n",
    "        else:\n",
    "            return 1\n",
    "    rows, cols = 11, 33\n",
    "    Z = np.zeros((rows, cols))\n",
    "    dealer_first_card = np.arange(1, 12) # 庄家第一张牌的取值范围1-10\n",
    "    player_points = np.arange(12,22) # 玩家总得分在1-32之间\n",
    "    for i in range(rows): # 庄家第一张牌 1-10\n",
    "        for j in range(cols): # 玩家总牌分 1-32\n",
    "#             s = j + 1, i + 11, useable_ace\n",
    "            s = i, j, useable_ace\n",
    "            a = policy(A, s, dealer, Q, epsilon)\n",
    "            Z[i,j] = value_of(a)\n",
    "    \n",
    "    plt.imshow(Z, cmap=plt.cm.cool, interpolation=None, origin=\"lower\", extent=[1, 11, 11, 22])\n"
   ]
  },
  {
   "cell_type": "code",
   "execution_count": 96,
   "metadata": {
    "ExecuteTime": {
     "end_time": "2019-10-23T02:00:00.660710Z",
     "start_time": "2019-10-23T02:00:00.653071Z"
    }
   },
   "outputs": [],
   "source": [
    "display = False\n",
    "# 创建一个玩家一个庄家，玩家使用原始策略，庄家使用其固定的策略\n",
    "player = Player(policy = naive_policy, role=\"玩家\", display = display)\n",
    "dealer = Player(policy = policy_for_dealer, role = \"庄家\", display = display)\n",
    "# 创建一个场景\n",
    "arena = Arena(display=display)\n",
    "player.policy = epsilon_greedy_black_jack_policy\n",
    "#player.reset_memory()"
   ]
  },
  {
   "cell_type": "code",
   "execution_count": 97,
   "metadata": {
    "ExecuteTime": {
     "end_time": "2019-10-23T02:03:19.564319Z",
     "start_time": "2019-10-23T02:00:03.131644Z"
    }
   },
   "outputs": [
    {
     "name": "stderr",
     "output_type": "stream",
     "text": [
      "100%|██████████| 1000000/1000000 [03:16<00:00, 5091.20it/s]"
     ]
    },
    {
     "name": "stdout",
     "output_type": "stream",
     "text": [
      "共玩了1000000局，玩家赢428529局，和87828局，输483643局，胜率：0.43\n"
     ]
    },
    {
     "name": "stderr",
     "output_type": "stream",
     "text": [
      "\n"
     ]
    }
   ],
   "source": [
    "arena.display = False\n",
    "player.display = False\n",
    "dealer.display = False\n",
    "player.policy = epsilon_greedy_black_jack_policy\n",
    "arena.play_games(dealer=dealer, player=player, num = 1000000, show_statistic = True)"
   ]
  },
  {
   "cell_type": "code",
   "execution_count": 106,
   "metadata": {
    "ExecuteTime": {
     "end_time": "2019-10-23T02:12:37.678785Z",
     "start_time": "2019-10-23T02:12:37.670626Z"
    }
   },
   "outputs": [],
   "source": [
    "# player.Q"
   ]
  },
  {
   "cell_type": "code",
   "execution_count": 113,
   "metadata": {
    "ExecuteTime": {
     "end_time": "2019-10-23T02:16:48.269652Z",
     "start_time": "2019-10-23T02:16:47.228280Z"
    }
   },
   "outputs": [
    {
     "data": {
      "image/png": "[encoded data removed]",
      "text/plain": [
       "<Figure size 432x288 with 1 Axes>"
      ]
     },
     "metadata": {
      "needs_background": "light"
     },
     "output_type": "display_data"
    },
    {
     "data": {
      "image/png": "[encoded data removed]",
      "text/plain": [
       "<Figure size 432x288 with 1 Axes>"
      ]
     },
     "metadata": {
      "needs_background": "light"
     },
     "output_type": "display_data"
    },
    {
     "data": {
      "image/png": "[encoded data removed]",
      "text/plain": [
       "<Figure size 432x288 with 1 Axes>"
      ]
     },
     "metadata": {
      "needs_background": "light"
     },
     "output_type": "display_data"
    },
    {
     "data": {
      "image/png": "[encoded data removed]",
      "text/plain": [
       "<Figure size 432x288 with 1 Axes>"
      ]
     },
     "metadata": {
      "needs_background": "light"
     },
     "output_type": "display_data"
    }
   ],
   "source": [
    "# axis1是dealer first card point\n",
    "# axis2是当前player cards total point\n",
    "\n",
    "draw_value(player.Q, useable_ace = 1, is_q_dict=True, A = player.A)\n",
    "draw_policy(player.policy, dealer, A, player.Q, epsilon = 1e-10, useable_ace = 1)\n",
    "draw_value(player.Q, useable_ace = 0, is_q_dict=True, A = player.A)\n",
    "draw_policy(player.policy, dealer, A, player.Q, epsilon = 1e-10, useable_ace = 0)\n",
    "\n",
    "# draw policy表示\n",
    "# 玩家手中有A， 当庄家牌小于7时，玩家几乎任意点数都可以不叫牌，否则就要牌\n",
    "# 玩家手中无A， 当庄家牌小于7时，玩家点数在13-18之间尽量要牌"
   ]
  },
  {
   "cell_type": "code",
   "execution_count": 115,
   "metadata": {
    "ExecuteTime": {
     "end_time": "2019-10-23T02:17:17.230980Z",
     "start_time": "2019-10-23T02:17:15.211785Z"
    }
   },
   "outputs": [
    {
     "name": "stderr",
     "output_type": "stream",
     "text": [
      "100%|██████████| 10000/10000 [00:01<00:00, 5665.69it/s]"
     ]
    },
    {
     "name": "stdout",
     "output_type": "stream",
     "text": [
      "共玩了10000局，玩家赢4292局，和915局，输4793局，胜率：0.43\n"
     ]
    },
    {
     "name": "stderr",
     "output_type": "stream",
     "text": [
      "\n"
     ]
    }
   ],
   "source": [
    "arena.display = False\n",
    "player.display = False\n",
    "dealer.display = False\n",
    "player.policy = epsilon_greedy_black_jack_policy #naive_policy # \n",
    "arena.play_games(dealer,player,num=10000, show_statistic = True)"
   ]
  },
  {
   "cell_type": "code",
   "execution_count": 116,
   "metadata": {
    "ExecuteTime": {
     "end_time": "2019-10-23T02:17:28.841997Z",
     "start_time": "2019-10-23T02:17:28.621857Z"
    }
   },
   "outputs": [
    {
     "name": "stderr",
     "output_type": "stream",
     "text": [
      "100%|██████████| 1000/1000 [00:00<00:00, 4820.57it/s]"
     ]
    },
    {
     "name": "stdout",
     "output_type": "stream",
     "text": [
      "共玩了1000局，玩家赢444局，和85局，输471局，胜率：0.44\n"
     ]
    },
    {
     "name": "stderr",
     "output_type": "stream",
     "text": [
      "\n"
     ]
    }
   ],
   "source": [
    "display = False\n",
    "arena.display = display\n",
    "player.display = display\n",
    "dealer.display = display\n",
    "player.policy = epsilon_greedy_black_jack_policy\n",
    "arena.play_games(dealer,player,num=1000, show_statistic = True)"
   ]
  },
  {
   "cell_type": "code",
   "execution_count": 117,
   "metadata": {
    "ExecuteTime": {
     "end_time": "2019-10-23T02:17:29.617715Z",
     "start_time": "2019-10-23T02:17:29.610852Z"
    }
   },
   "outputs": [
    {
     "data": {
      "text/plain": [
       "1011000"
      ]
     },
     "execution_count": 117,
     "metadata": {},
     "output_type": "execute_result"
    }
   ],
   "source": [
    "player.total_learning_times"
   ]
  },
  {
   "cell_type": "code",
   "execution_count": 118,
   "metadata": {
    "ExecuteTime": {
     "end_time": "2019-10-23T02:17:30.179749Z",
     "start_time": "2019-10-23T02:17:30.146669Z"
    }
   },
   "outputs": [
    {
     "name": "stdout",
     "output_type": "stream",
     "text": [
      "['继续叫牌', '停止叫牌']\n",
      "-0.029498525073746333\n",
      "-0.07692307692307693\n",
      "-0.544182286667013\n",
      "-0.5551782682512734\n",
      "51\n",
      "51\n"
     ]
    },
    {
     "ename": "TypeError",
     "evalue": "epsilon_greedy_black_jack_policy() missing 1 required positional argument: 'epsilon'",
     "output_type": "error",
     "traceback": [
      "\u001b[0;31m---------------------------------------------------------------------------\u001b[0m",
      "\u001b[0;31mTypeError\u001b[0m                                 Traceback (most recent call last)",
      "\u001b[0;32m<ipython-input-118-4da0ada9fc96>\u001b[0m in \u001b[0;36m<module>\u001b[0;34m\u001b[0m\n\u001b[1;32m     10\u001b[0m \u001b[0mprint\u001b[0m\u001b[0;34m(\u001b[0m\u001b[0mplayer\u001b[0m\u001b[0;34m.\u001b[0m\u001b[0mNsa\u001b[0m\u001b[0;34m[\u001b[0m\u001b[0mstr_key\u001b[0m\u001b[0;34m(\u001b[0m\u001b[0;34m\"6_18_0\"\u001b[0m\u001b[0;34m,\u001b[0m \u001b[0mplayer\u001b[0m\u001b[0;34m.\u001b[0m\u001b[0mA\u001b[0m\u001b[0;34m[\u001b[0m\u001b[0;36m0\u001b[0m\u001b[0;34m]\u001b[0m\u001b[0;34m)\u001b[0m\u001b[0;34m]\u001b[0m\u001b[0;34m)\u001b[0m\u001b[0;34m\u001b[0m\u001b[0;34m\u001b[0m\u001b[0m\n\u001b[1;32m     11\u001b[0m \u001b[0mprint\u001b[0m\u001b[0;34m(\u001b[0m\u001b[0mplayer\u001b[0m\u001b[0;34m.\u001b[0m\u001b[0mNsa\u001b[0m\u001b[0;34m[\u001b[0m\u001b[0mstr_key\u001b[0m\u001b[0;34m(\u001b[0m\u001b[0;34m\"6_18_0\"\u001b[0m\u001b[0;34m,\u001b[0m \u001b[0mplayer\u001b[0m\u001b[0;34m.\u001b[0m\u001b[0mA\u001b[0m\u001b[0;34m[\u001b[0m\u001b[0;36m0\u001b[0m\u001b[0;34m]\u001b[0m\u001b[0;34m)\u001b[0m\u001b[0;34m]\u001b[0m\u001b[0;34m)\u001b[0m\u001b[0;34m\u001b[0m\u001b[0;34m\u001b[0m\u001b[0m\n\u001b[0;32m---> 12\u001b[0;31m \u001b[0mepsilon_greedy_black_jack_policy\u001b[0m\u001b[0;34m(\u001b[0m\u001b[0mplayer\u001b[0m\u001b[0;34m.\u001b[0m\u001b[0mA\u001b[0m\u001b[0;34m,\u001b[0m \u001b[0ms\u001b[0m\u001b[0;34m,\u001b[0m \u001b[0mplayer\u001b[0m\u001b[0;34m.\u001b[0m\u001b[0mQ\u001b[0m\u001b[0;34m,\u001b[0m \u001b[0;36m1e-10\u001b[0m\u001b[0;34m,\u001b[0m \u001b[0mshow_random_num\u001b[0m \u001b[0;34m=\u001b[0m \u001b[0;32mTrue\u001b[0m\u001b[0;34m)\u001b[0m\u001b[0;34m\u001b[0m\u001b[0;34m\u001b[0m\u001b[0m\n\u001b[0m",
      "\u001b[0;31mTypeError\u001b[0m: epsilon_greedy_black_jack_policy() missing 1 required positional argument: 'epsilon'"
     ]
    }
   ],
   "source": [
    "s = 9, 12, 1\n",
    "print(player.A)\n",
    "\n",
    "print(player.Q[str_key(s,player.A[0])])\n",
    "print(player.Q[str_key(s,player.A[1])])\n",
    "s = 10, 15, 0\n",
    "print(player.Q[str_key(s,player.A[0])])\n",
    "print(player.Q[str_key(s,player.A[1])])\n",
    "\n",
    "print(player.Nsa[str_key(\"6_18_0\", player.A[0])])\n",
    "print(player.Nsa[str_key(\"6_18_0\", player.A[0])])\n",
    "epsilon_greedy_black_jack_policy(player.A, s, player.Q, 1e-10, show_random_num = True)"
   ]
  },
  {
   "cell_type": "code",
   "execution_count": null,
   "metadata": {},
   "outputs": [],
   "source": []
  }
 ],
 "metadata": {
  "kernelspec": {
   "display_name": "Python 3",
   "language": "python",
   "name": "python3"
  },
  "language_info": {
   "codemirror_mode": {
    "name": "ipython",
    "version": 3
   },
   "file_extension": ".py",
   "mimetype": "text/x-python",
   "name": "python",
   "nbconvert_exporter": "python",
   "pygments_lexer": "ipython3",
   "version": "3.7.3"
  }
 },
 "nbformat": 4,
 "nbformat_minor": 2
}
